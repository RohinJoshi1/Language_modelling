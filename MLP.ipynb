{
 "cells": [
  {
   "cell_type": "code",
   "execution_count": 1,
   "id": "b06920c9-43b6-459a-912c-8ff51bc40a37",
   "metadata": {},
   "outputs": [],
   "source": [
    "import torch\n",
    "import torch.nn.functional as F\n",
    "import matplotlib.pyplot as plt\n",
    "%matplotlib inline "
   ]
  },
  {
   "cell_type": "code",
   "execution_count": 2,
   "id": "1bfe76de-d081-4afd-8ba0-d7456112b04a",
   "metadata": {},
   "outputs": [],
   "source": [
    "words = open('names.txt','r').read().splitlines()"
   ]
  },
  {
   "cell_type": "code",
   "execution_count": 3,
   "id": "845ac950-9235-45ea-84bc-1c0dee854de5",
   "metadata": {},
   "outputs": [
    {
     "data": {
      "text/plain": [
       "['emma', 'olivia', 'ava', 'isabella', 'sophia', 'charlotte', 'mia', 'amelia']"
      ]
     },
     "execution_count": 3,
     "metadata": {},
     "output_type": "execute_result"
    }
   ],
   "source": [
    "words[:8]"
   ]
  },
  {
   "cell_type": "code",
   "execution_count": 4,
   "id": "1bcf3e32-8666-48bf-8b70-73df08532e25",
   "metadata": {},
   "outputs": [],
   "source": [
    "#Build mapping and vocab"
   ]
  },
  {
   "cell_type": "code",
   "execution_count": 6,
   "id": "f3979205-0d89-41a6-94b9-e861a966b2bb",
   "metadata": {},
   "outputs": [],
   "source": [
    "chars = sorted(list(set(''.join(words))))\n"
   ]
  },
  {
   "cell_type": "code",
   "execution_count": 7,
   "id": "3daf419b-28ec-4201-a5bc-bb7cc2ecf468",
   "metadata": {},
   "outputs": [
    {
     "data": {
      "text/plain": [
       "['a',\n",
       " 'b',\n",
       " 'c',\n",
       " 'd',\n",
       " 'e',\n",
       " 'f',\n",
       " 'g',\n",
       " 'h',\n",
       " 'i',\n",
       " 'j',\n",
       " 'k',\n",
       " 'l',\n",
       " 'm',\n",
       " 'n',\n",
       " 'o',\n",
       " 'p',\n",
       " 'q',\n",
       " 'r',\n",
       " 's',\n",
       " 't',\n",
       " 'u',\n",
       " 'v',\n",
       " 'w',\n",
       " 'x',\n",
       " 'y',\n",
       " 'z']"
      ]
     },
     "execution_count": 7,
     "metadata": {},
     "output_type": "execute_result"
    }
   ],
   "source": [
    "chars"
   ]
  },
  {
   "cell_type": "code",
   "execution_count": 8,
   "id": "4b1d9620-cf69-4da9-bd74-e39f386daa39",
   "metadata": {},
   "outputs": [],
   "source": [
    "#Set stoi and itos\n",
    "stoi = {s:i+1 for i,s in enumerate(chars)}"
   ]
  },
  {
   "cell_type": "code",
   "execution_count": 9,
   "id": "e77581cc-fb30-4895-93a3-90197c7f2e1c",
   "metadata": {},
   "outputs": [
    {
     "data": {
      "text/plain": [
       "{'a': 1,\n",
       " 'b': 2,\n",
       " 'c': 3,\n",
       " 'd': 4,\n",
       " 'e': 5,\n",
       " 'f': 6,\n",
       " 'g': 7,\n",
       " 'h': 8,\n",
       " 'i': 9,\n",
       " 'j': 10,\n",
       " 'k': 11,\n",
       " 'l': 12,\n",
       " 'm': 13,\n",
       " 'n': 14,\n",
       " 'o': 15,\n",
       " 'p': 16,\n",
       " 'q': 17,\n",
       " 'r': 18,\n",
       " 's': 19,\n",
       " 't': 20,\n",
       " 'u': 21,\n",
       " 'v': 22,\n",
       " 'w': 23,\n",
       " 'x': 24,\n",
       " 'y': 25,\n",
       " 'z': 26}"
      ]
     },
     "execution_count": 9,
     "metadata": {},
     "output_type": "execute_result"
    }
   ],
   "source": [
    "stoi\n"
   ]
  },
  {
   "cell_type": "code",
   "execution_count": 10,
   "id": "5849d413-da1b-4b7c-998f-461fbabb9e4f",
   "metadata": {},
   "outputs": [],
   "source": [
    "stoi['.'] = 0\n"
   ]
  },
  {
   "cell_type": "code",
   "execution_count": 11,
   "id": "9c6c6546-6443-4a02-b95c-4126553e935f",
   "metadata": {},
   "outputs": [
    {
     "data": {
      "text/plain": [
       "{'a': 1,\n",
       " 'b': 2,\n",
       " 'c': 3,\n",
       " 'd': 4,\n",
       " 'e': 5,\n",
       " 'f': 6,\n",
       " 'g': 7,\n",
       " 'h': 8,\n",
       " 'i': 9,\n",
       " 'j': 10,\n",
       " 'k': 11,\n",
       " 'l': 12,\n",
       " 'm': 13,\n",
       " 'n': 14,\n",
       " 'o': 15,\n",
       " 'p': 16,\n",
       " 'q': 17,\n",
       " 'r': 18,\n",
       " 's': 19,\n",
       " 't': 20,\n",
       " 'u': 21,\n",
       " 'v': 22,\n",
       " 'w': 23,\n",
       " 'x': 24,\n",
       " 'y': 25,\n",
       " 'z': 26,\n",
       " '.': 0}"
      ]
     },
     "execution_count": 11,
     "metadata": {},
     "output_type": "execute_result"
    }
   ],
   "source": [
    "stoi\n"
   ]
  },
  {
   "cell_type": "code",
   "execution_count": 12,
   "id": "86bf4754-4d9e-4ec7-b37d-2a0427f1b612",
   "metadata": {},
   "outputs": [],
   "source": [
    "itos = {i:s for s,i in stoi.items()}"
   ]
  },
  {
   "cell_type": "code",
   "execution_count": 20,
   "id": "fbd7f3ac-3a76-465c-b7a5-8f0d682e4b7b",
   "metadata": {},
   "outputs": [
    {
     "data": {
      "text/plain": [
       "{1: 'a',\n",
       " 2: 'b',\n",
       " 3: 'c',\n",
       " 4: 'd',\n",
       " 5: 'e',\n",
       " 6: 'f',\n",
       " 7: 'g',\n",
       " 8: 'h',\n",
       " 9: 'i',\n",
       " 10: 'j',\n",
       " 11: 'k',\n",
       " 12: 'l',\n",
       " 13: 'm',\n",
       " 14: 'n',\n",
       " 15: 'o',\n",
       " 16: 'p',\n",
       " 17: 'q',\n",
       " 18: 'r',\n",
       " 19: 's',\n",
       " 20: 't',\n",
       " 21: 'u',\n",
       " 22: 'v',\n",
       " 23: 'w',\n",
       " 24: 'x',\n",
       " 25: 'y',\n",
       " 26: 'z',\n",
       " 0: '.'}"
      ]
     },
     "execution_count": 20,
     "metadata": {},
     "output_type": "execute_result"
    }
   ],
   "source": [
    "itos"
   ]
  },
  {
   "cell_type": "code",
   "execution_count": 21,
   "id": "4630d40c-1427-405c-a655-7b74488c0517",
   "metadata": {},
   "outputs": [],
   "source": [
    "# build the dataset\n",
    "\n",
    "block_size = 3 # context length: how many characters do we take to predict the next one?\n",
    "X, Y = [], []\n",
    "for w in words:\n",
    "  \n",
    "  #print(w)\n",
    "  context = [0] * block_size\n",
    "  for ch in w + '.':\n",
    "    ix = stoi[ch]\n",
    "    X.append(context)\n",
    "    Y.append(ix)\n",
    "    #print(''.join(itos[i] for i in context), '--->', itos[ix])\n",
    "    context = context[1:] + [ix] # crop and append\n",
    "  \n",
    "X = torch.tensor(X)\n",
    "Y = torch.tensor(Y)"
   ]
  },
  {
   "cell_type": "code",
   "execution_count": 14,
   "id": "b95b67af-020c-45d4-a744-2304b1483019",
   "metadata": {},
   "outputs": [
    {
     "name": "stdout",
     "output_type": "stream",
     "text": [
      "torch.Size([182625, 3]) torch.Size([182625])\n",
      "torch.Size([22655, 3]) torch.Size([22655])\n",
      "torch.Size([22866, 3]) torch.Size([22866])\n"
     ]
    }
   ],
   "source": [
    "block_size = 3 # context length: how many characters do we take to predict the next one?\n",
    "\n",
    "def build_dataset(words):  \n",
    "  X, Y = [], []\n",
    "  for w in words:\n",
    "\n",
    "    #print(w)\n",
    "    context = [0] * block_size\n",
    "    for ch in w + '.':\n",
    "      ix = stoi[ch]\n",
    "      X.append(context)\n",
    "      Y.append(ix)\n",
    "      #print(''.join(itos[i] for i in context), '--->', itos[ix])\n",
    "      context = context[1:] + [ix] # crop and append\n",
    "\n",
    "  X = torch.tensor(X)\n",
    "  Y = torch.tensor(Y)\n",
    "  print(X.shape, Y.shape)\n",
    "  return X, Y\n",
    "\n",
    "import random\n",
    "random.seed(42)\n",
    "random.shuffle(words)\n",
    "n1 = int(0.8*len(words))\n",
    "n2 = int(0.9*len(words))\n",
    "\n",
    "Xtr, Ytr = build_dataset(words[:n1])\n",
    "Xdev, Ydev = build_dataset(words[n1:n2])\n",
    "Xte, Yte = build_dataset(words[n2:])"
   ]
  },
  {
   "cell_type": "code",
   "execution_count": 15,
   "id": "3c1c0363-8ecc-431c-9cab-aec6023a4a58",
   "metadata": {},
   "outputs": [],
   "source": [
    "C = torch.randn((27,2))"
   ]
  },
  {
   "cell_type": "code",
   "execution_count": 16,
   "id": "4540ceff-249b-4612-96c3-dcb9e368963b",
   "metadata": {},
   "outputs": [
    {
     "data": {
      "text/plain": [
       "tensor([[ 0.0361,  0.4885],\n",
       "        [ 0.0533, -0.2031],\n",
       "        [ 0.6363, -0.4911],\n",
       "        [-0.6803,  1.1564],\n",
       "        [ 0.7179, -0.2056],\n",
       "        [-0.3365, -0.5927],\n",
       "        [ 0.3686,  1.3327],\n",
       "        [ 0.6379,  0.8276],\n",
       "        [ 0.5147, -0.5502],\n",
       "        [-0.2603,  1.2304],\n",
       "        [ 0.2489, -0.8023],\n",
       "        [ 0.8135,  0.9552],\n",
       "        [-0.4613, -0.1111],\n",
       "        [ 0.2042, -0.4401],\n",
       "        [ 0.9298, -1.5218],\n",
       "        [ 0.9145,  0.9651],\n",
       "        [-1.8234,  0.4625],\n",
       "        [ 1.4934,  1.0275],\n",
       "        [-0.9016,  1.5394],\n",
       "        [ 0.0285,  1.5345],\n",
       "        [ 0.6796,  0.5618],\n",
       "        [ 1.1976, -0.5799],\n",
       "        [-0.9362, -0.3487],\n",
       "        [ 1.0310, -0.4908],\n",
       "        [-1.2604, -0.4092],\n",
       "        [-0.3772,  0.3916],\n",
       "        [ 0.7594, -0.4835]])"
      ]
     },
     "execution_count": 16,
     "metadata": {},
     "output_type": "execute_result"
    }
   ],
   "source": [
    "C\n"
   ]
  },
  {
   "cell_type": "code",
   "execution_count": 17,
   "id": "244fbfef-cd3f-4c9b-b01a-d340f295b5d3",
   "metadata": {},
   "outputs": [
    {
     "data": {
      "text/plain": [
       "tensor([-0.3365, -0.5927])"
      ]
     },
     "execution_count": 17,
     "metadata": {},
     "output_type": "execute_result"
    }
   ],
   "source": [
    "C[5] \n"
   ]
  },
  {
   "cell_type": "code",
   "execution_count": 18,
   "id": "918376e8-cc4c-48a0-9b84-76b25166bf67",
   "metadata": {},
   "outputs": [
    {
     "data": {
      "text/plain": [
       "tensor([-0.3365, -0.5927])"
      ]
     },
     "execution_count": 18,
     "metadata": {},
     "output_type": "execute_result"
    }
   ],
   "source": [
    "F.one_hot(torch.tensor(5),num_classes=27).float()@C"
   ]
  },
  {
   "cell_type": "code",
   "execution_count": 22,
   "id": "efea232f-c5da-46fd-bd71-17266329b192",
   "metadata": {},
   "outputs": [
    {
     "data": {
      "text/plain": [
       "torch.Size([228146, 3])"
      ]
     },
     "execution_count": 22,
     "metadata": {},
     "output_type": "execute_result"
    }
   ],
   "source": [
    "X.shape"
   ]
  },
  {
   "cell_type": "code",
   "execution_count": 23,
   "id": "f5fe7765-83b4-4779-93a5-f2b7af10b337",
   "metadata": {},
   "outputs": [
    {
     "data": {
      "text/plain": [
       "tensor([[[ 0.0361,  0.4885],\n",
       "         [ 0.0361,  0.4885],\n",
       "         [ 0.0361,  0.4885]],\n",
       "\n",
       "        [[ 0.0361,  0.4885],\n",
       "         [ 0.0361,  0.4885],\n",
       "         [-0.3772,  0.3916]],\n",
       "\n",
       "        [[ 0.0361,  0.4885],\n",
       "         [-0.3772,  0.3916],\n",
       "         [ 1.1976, -0.5799]],\n",
       "\n",
       "        ...,\n",
       "\n",
       "        [[ 0.9145,  0.9651],\n",
       "         [-0.9362, -0.3487],\n",
       "         [ 0.0533, -0.2031]],\n",
       "\n",
       "        [[-0.9362, -0.3487],\n",
       "         [ 0.0533, -0.2031],\n",
       "         [ 0.9298, -1.5218]],\n",
       "\n",
       "        [[ 0.0533, -0.2031],\n",
       "         [ 0.9298, -1.5218],\n",
       "         [-0.2603,  1.2304]]])"
      ]
     },
     "execution_count": 23,
     "metadata": {},
     "output_type": "execute_result"
    }
   ],
   "source": [
    "C[X]"
   ]
  },
  {
   "cell_type": "code",
   "execution_count": 24,
   "id": "b1420dbc-4de1-4b74-b4f7-8add76108c74",
   "metadata": {},
   "outputs": [
    {
     "data": {
      "text/plain": [
       "torch.Size([228146, 3, 2])"
      ]
     },
     "execution_count": 24,
     "metadata": {},
     "output_type": "execute_result"
    }
   ],
   "source": [
    "C[X].shape"
   ]
  },
  {
   "cell_type": "code",
   "execution_count": 25,
   "id": "14062c36-2a8d-4609-90f0-04fa67d67b9e",
   "metadata": {},
   "outputs": [
    {
     "data": {
      "text/plain": [
       "tensor(18)"
      ]
     },
     "execution_count": 25,
     "metadata": {},
     "output_type": "execute_result"
    }
   ],
   "source": [
    "X[13,2]"
   ]
  },
  {
   "cell_type": "code",
   "execution_count": 26,
   "id": "d1dbfd11-4df9-4c82-b0c1-3c2d3665924d",
   "metadata": {},
   "outputs": [
    {
     "data": {
      "text/plain": [
       "tensor([-0.9016,  1.5394])"
      ]
     },
     "execution_count": 26,
     "metadata": {},
     "output_type": "execute_result"
    }
   ],
   "source": [
    "C[X][13,2] \n"
   ]
  },
  {
   "cell_type": "code",
   "execution_count": 27,
   "id": "f1420ea3-4b34-4429-b38b-ee9a3ac257b4",
   "metadata": {},
   "outputs": [
    {
     "data": {
      "text/plain": [
       "torch.Size([228146, 3, 2])"
      ]
     },
     "execution_count": 27,
     "metadata": {},
     "output_type": "execute_result"
    }
   ],
   "source": [
    "emb = C[X] \n",
    "emb.shape"
   ]
  },
  {
   "cell_type": "code",
   "execution_count": 37,
   "id": "84c7e8ed-3342-439e-acfc-0bf1dc98ec46",
   "metadata": {},
   "outputs": [],
   "source": [
    "W1 = torch.randn((6,100))\n",
    "b1 = torch.randn(100)"
   ]
  },
  {
   "cell_type": "code",
   "execution_count": 28,
   "id": "8ce88e6c-1a57-4667-9af2-46aaba6fbd8b",
   "metadata": {},
   "outputs": [],
   "source": [
    "#We need 228146,6 instead of 3,2 "
   ]
  },
  {
   "cell_type": "code",
   "execution_count": 38,
   "id": "3e2b3663-7ba8-4806-b7df-e267f8baeadf",
   "metadata": {},
   "outputs": [],
   "source": [
    "h = torch.tanh(emb.view(-1,6) @ W1 + b1)"
   ]
  },
  {
   "cell_type": "code",
   "execution_count": 39,
   "id": "5c861bd1-411d-44ec-839a-18753a058f94",
   "metadata": {},
   "outputs": [
    {
     "data": {
      "text/plain": [
       "tensor([[ 0.4032,  0.0865, -0.5076,  ...,  0.6410, -0.1398, -0.9597],\n",
       "        [ 0.3678, -0.3318, -0.6415,  ...,  0.6211,  0.3788, -0.8937],\n",
       "        [-0.5583,  0.9531, -0.5883,  ...,  0.4874, -0.9793, -0.9020],\n",
       "        ...,\n",
       "        [ 0.9780, -0.9890, -0.9990,  ...,  0.9089, -0.9877, -0.7066],\n",
       "        [-0.9839,  0.9929,  0.2585,  ..., -0.2403, -0.7081, -0.3759],\n",
       "        [ 0.9280, -0.9993, -0.9366,  ...,  0.9372,  0.4778, -0.9982]])"
      ]
     },
     "execution_count": 39,
     "metadata": {},
     "output_type": "execute_result"
    }
   ],
   "source": [
    "h"
   ]
  },
  {
   "cell_type": "code",
   "execution_count": 40,
   "id": "ccc1f3d8-d100-4822-b8e7-1635dfa6f549",
   "metadata": {},
   "outputs": [
    {
     "data": {
      "text/plain": [
       "torch.Size([228146, 100])"
      ]
     },
     "execution_count": 40,
     "metadata": {},
     "output_type": "execute_result"
    }
   ],
   "source": [
    "h.shape"
   ]
  },
  {
   "cell_type": "code",
   "execution_count": 41,
   "id": "b54d6ea7-1a31-4d12-8c92-5f8ccab48099",
   "metadata": {},
   "outputs": [],
   "source": [
    "#layer 2  \n",
    "W2 = torch.randn((100,27))\n",
    "b2 = torch.randn(27) "
   ]
  },
  {
   "cell_type": "code",
   "execution_count": 42,
   "id": "2e8fdcda-f7bb-4884-9c9f-c10890cdce94",
   "metadata": {},
   "outputs": [],
   "source": [
    "logits = h @ W2 + b2 "
   ]
  },
  {
   "cell_type": "code",
   "execution_count": 43,
   "id": "46e257d5-ac22-47fb-a243-df4369ddc2fc",
   "metadata": {},
   "outputs": [
    {
     "data": {
      "text/plain": [
       "torch.Size([228146, 27])"
      ]
     },
     "execution_count": 43,
     "metadata": {},
     "output_type": "execute_result"
    }
   ],
   "source": [
    "logits.shape"
   ]
  },
  {
   "cell_type": "code",
   "execution_count": 44,
   "id": "30f7d82a-6c06-4c6f-8bf2-f6247b189eb0",
   "metadata": {},
   "outputs": [
    {
     "data": {
      "text/plain": [
       "tensor([[ -8.6695,  -1.4701, -10.6531,  ...,  -6.7846,  -5.0195,   3.4941],\n",
       "        [ -4.7855,  -5.1132, -10.9286,  ...,  -7.8906,  -2.6363,   2.4424],\n",
       "        [-12.0126,  22.6463,  -3.3152,  ...,  -5.9904,   0.4106,  -8.2298],\n",
       "        ...,\n",
       "        [ -7.8274,   4.2940,  -0.0633,  ...,  -5.9034,  -2.1718,  -9.6683],\n",
       "        [ -9.8818,  17.6640,  10.5999,  ...,   3.5152,   1.7104,   0.2975],\n",
       "        [ -8.7941, -19.3735,   1.6455,  ...,   0.6196,   0.5459,  -4.5699]])"
      ]
     },
     "execution_count": 44,
     "metadata": {},
     "output_type": "execute_result"
    }
   ],
   "source": [
    "logits"
   ]
  },
  {
   "cell_type": "code",
   "execution_count": 45,
   "id": "679ea785-7049-4316-8a4b-9ed96d962a03",
   "metadata": {},
   "outputs": [],
   "source": [
    "counts = logits.exp()"
   ]
  },
  {
   "cell_type": "code",
   "execution_count": 46,
   "id": "b54ad47d-976d-482f-9d2e-0ed5eabb6f93",
   "metadata": {},
   "outputs": [
    {
     "data": {
      "text/plain": [
       "tensor([[1.7174e-04, 2.2990e-01, 2.3627e-05,  ..., 1.1310e-03, 6.6080e-03,\n",
       "         3.2920e+01],\n",
       "        [8.3499e-03, 6.0168e-03, 1.7937e-05,  ..., 3.7424e-04, 7.1624e-02,\n",
       "         1.1501e+01],\n",
       "        [6.0671e-06, 6.8416e+09, 3.6326e-02,  ..., 2.5026e-03, 1.5078e+00,\n",
       "         2.6660e-04],\n",
       "        ...,\n",
       "        [3.9865e-04, 7.3256e+01, 9.3866e-01,  ..., 2.7301e-03, 1.1397e-01,\n",
       "         6.3256e-05],\n",
       "        [5.1095e-05, 4.6923e+07, 4.0132e+04,  ..., 3.3622e+01, 5.5312e+00,\n",
       "         1.3465e+00],\n",
       "        [1.5162e-04, 3.8566e-09, 5.1838e+00,  ..., 1.8582e+00, 1.7261e+00,\n",
       "         1.0359e-02]])"
      ]
     },
     "execution_count": 46,
     "metadata": {},
     "output_type": "execute_result"
    }
   ],
   "source": [
    "counts"
   ]
  },
  {
   "cell_type": "code",
   "execution_count": 47,
   "id": "434ca3ca-437c-40f4-b656-6f813b0acd30",
   "metadata": {},
   "outputs": [],
   "source": [
    "prob = counts / counts.sum(1,keepdim=True)"
   ]
  },
  {
   "cell_type": "code",
   "execution_count": 48,
   "id": "3a8fd13e-5339-4054-87ca-ca1db34cc171",
   "metadata": {},
   "outputs": [
    {
     "data": {
      "text/plain": [
       "tensor([[1.1077e-07, 1.4829e-04, 1.5240e-08,  ..., 7.2954e-07, 4.2623e-06,\n",
       "         2.1234e-02],\n",
       "        [5.6149e-06, 4.0460e-06, 1.2062e-08,  ..., 2.5165e-07, 4.8163e-05,\n",
       "         7.7338e-03],\n",
       "        [8.8663e-16, 9.9981e-01, 5.3086e-12,  ..., 3.6572e-13, 2.2034e-10,\n",
       "         3.8960e-14],\n",
       "        ...,\n",
       "        [2.1038e-12, 3.8659e-07, 4.9536e-09,  ..., 1.4408e-11, 6.0145e-10,\n",
       "         3.3382e-13],\n",
       "        [1.5610e-15, 1.4336e-03, 1.2261e-06,  ..., 1.0272e-09, 1.6898e-10,\n",
       "         4.1136e-11],\n",
       "        [6.3378e-12, 1.6121e-16, 2.1668e-07,  ..., 7.7675e-08, 7.2152e-08,\n",
       "         4.3300e-10]])"
      ]
     },
     "execution_count": 48,
     "metadata": {},
     "output_type": "execute_result"
    }
   ],
   "source": [
    "prob"
   ]
  },
  {
   "cell_type": "code",
   "execution_count": 49,
   "id": "4e5e3d56-4ddc-41c9-a882-5e24f17c366c",
   "metadata": {},
   "outputs": [
    {
     "data": {
      "text/plain": [
       "torch.Size([228146, 27])"
      ]
     },
     "execution_count": 49,
     "metadata": {},
     "output_type": "execute_result"
    }
   ],
   "source": [
    "prob.shape"
   ]
  },
  {
   "cell_type": "code",
   "execution_count": 51,
   "id": "5b3cd0c7-33b4-4436-b7e0-4a0b2ac892a8",
   "metadata": {},
   "outputs": [
    {
     "data": {
      "text/plain": [
       "tensor(1.)"
      ]
     },
     "execution_count": 51,
     "metadata": {},
     "output_type": "execute_result"
    }
   ],
   "source": [
    "prob[0].sum()"
   ]
  },
  {
   "cell_type": "code",
   "execution_count": 52,
   "id": "557508af-d4cd-419f-9014-feeaeb2e4b7d",
   "metadata": {},
   "outputs": [
    {
     "data": {
      "text/plain": [
       "228146"
      ]
     },
     "execution_count": 52,
     "metadata": {},
     "output_type": "execute_result"
    }
   ],
   "source": [
    "prob.shape[0]"
   ]
  },
  {
   "cell_type": "code",
   "execution_count": 60,
   "id": "1ae2c0f7-e7ab-41df-a142-b59387ed2072",
   "metadata": {},
   "outputs": [],
   "source": [
    "loss = -prob[torch.arange(prob.shape[0]),Y].log().mean()"
   ]
  },
  {
   "cell_type": "code",
   "execution_count": 61,
   "id": "d26ecfac-efd5-41bd-b69f-81ef6803a287",
   "metadata": {},
   "outputs": [
    {
     "data": {
      "text/plain": [
       "tensor([25, 21,  8,  ..., 14,  9,  0])"
      ]
     },
     "execution_count": 61,
     "metadata": {},
     "output_type": "execute_result"
    }
   ],
   "source": [
    "Y\n"
   ]
  },
  {
   "cell_type": "code",
   "execution_count": 62,
   "id": "ade9e2e7-1f4b-4e01-b211-7f105accfa00",
   "metadata": {},
   "outputs": [
    {
     "data": {
      "text/plain": [
       "tensor(14.3079)"
      ]
     },
     "execution_count": 62,
     "metadata": {},
     "output_type": "execute_result"
    }
   ],
   "source": [
    "loss"
   ]
  },
  {
   "cell_type": "code",
   "execution_count": 63,
   "id": "b20a71f2-5ea9-4702-89ac-506966481840",
   "metadata": {},
   "outputs": [
    {
     "data": {
      "text/plain": [
       "tensor(14.3079)"
      ]
     },
     "execution_count": 63,
     "metadata": {},
     "output_type": "execute_result"
    }
   ],
   "source": [
    "F.cross_entropy(logits,Y)"
   ]
  },
  {
   "cell_type": "code",
   "execution_count": 64,
   "id": "b39ac1d0-0c12-4662-abc9-d02d26303c24",
   "metadata": {},
   "outputs": [],
   "source": [
    "#Cleanup\n",
    "g = torch.Generator().manual_seed(2147483647) # for reproducibility\n",
    "C = torch.randn((27, 10), generator=g)\n",
    "W1 = torch.randn((30, 200), generator=g)\n",
    "b1 = torch.randn(200, generator=g)\n",
    "W2 = torch.randn((200, 27), generator=g)\n",
    "b2 = torch.randn(27, generator=g)\n",
    "parameters = [C, W1, b1, W2, b2]"
   ]
  },
  {
   "cell_type": "code",
   "execution_count": 65,
   "id": "be60d1b5-befa-4e08-be4f-f5fa5b9d5bbf",
   "metadata": {},
   "outputs": [
    {
     "data": {
      "text/plain": [
       "11897"
      ]
     },
     "execution_count": 65,
     "metadata": {},
     "output_type": "execute_result"
    }
   ],
   "source": [
    "sum(p.nelement() for p in parameters)"
   ]
  },
  {
   "cell_type": "code",
   "execution_count": 66,
   "id": "5adf42a4-7bd9-435c-a168-3366c79cfe81",
   "metadata": {},
   "outputs": [],
   "source": [
    "for p in parameters:\n",
    "    p.requires_grad = True"
   ]
  },
  {
   "cell_type": "code",
   "execution_count": 68,
   "id": "794555da-ee79-4637-a06d-ae9a920f6e06",
   "metadata": {},
   "outputs": [
    {
     "ename": "SyntaxError",
     "evalue": "unmatched ')' (1581787022.py, line 4)",
     "output_type": "error",
     "traceback": [
      "\u001b[0;36m  Cell \u001b[0;32mIn[68], line 4\u001b[0;36m\u001b[0m\n\u001b[0;31m    h = torch.tanh(emb.view(-1,6)) @W1 + b1)\u001b[0m\n\u001b[0m                                           ^\u001b[0m\n\u001b[0;31mSyntaxError\u001b[0m\u001b[0;31m:\u001b[0m unmatched ')'\n"
     ]
    }
   ],
   "source": [
    "#Train \n",
    "for _ in range(10):\n",
    "    emb = C[X]\n",
    "    h = torch.tanh(emb.view(-1,6)) @W1 + b1)"
   ]
  },
  {
   "cell_type": "code",
   "execution_count": null,
   "id": "f5d5cdb1-18f5-47d7-88f3-4a6ba2211526",
   "metadata": {},
   "outputs": [],
   "source": []
  }
 ],
 "metadata": {
  "kernelspec": {
   "display_name": "Python 3 (ipykernel)",
   "language": "python",
   "name": "python3"
  },
  "language_info": {
   "codemirror_mode": {
    "name": "ipython",
    "version": 3
   },
   "file_extension": ".py",
   "mimetype": "text/x-python",
   "name": "python",
   "nbconvert_exporter": "python",
   "pygments_lexer": "ipython3",
   "version": "3.9.17"
  }
 },
 "nbformat": 4,
 "nbformat_minor": 5
}
