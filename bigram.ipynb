{
 "cells": [
  {
   "cell_type": "code",
   "execution_count": 10,
   "id": "e73c0fba-29cb-4af9-bdb8-60116e80a8ed",
   "metadata": {},
   "outputs": [],
   "source": [
    "import torch\n",
    "words = open('names.txt','r').read().splitlines()\n",
    "\n"
   ]
  },
  {
   "cell_type": "code",
   "execution_count": 11,
   "id": "183846cd-4f06-487a-b9bf-4208828653b8",
   "metadata": {},
   "outputs": [
    {
     "data": {
      "text/plain": [
       "32033"
      ]
     },
     "execution_count": 11,
     "metadata": {},
     "output_type": "execute_result"
    }
   ],
   "source": [
    "len(words)\n"
   ]
  },
  {
   "cell_type": "code",
   "execution_count": 12,
   "id": "5f3ba0ae-0c72-47ef-913a-1fff08720f27",
   "metadata": {},
   "outputs": [
    {
     "data": {
      "text/plain": [
       "2"
      ]
     },
     "execution_count": 12,
     "metadata": {},
     "output_type": "execute_result"
    }
   ],
   "source": [
    "min(len(w) for w in words)"
   ]
  },
  {
   "cell_type": "code",
   "execution_count": 13,
   "id": "eb13a8ca-a8e4-41b8-9c57-890c6c6fc5ce",
   "metadata": {},
   "outputs": [
    {
     "data": {
      "text/plain": [
       "15"
      ]
     },
     "execution_count": 13,
     "metadata": {},
     "output_type": "execute_result"
    }
   ],
   "source": [
    "max(len(w) for w in words)\n"
   ]
  },
  {
   "cell_type": "code",
   "execution_count": null,
   "id": "896fc275-0ed9-48bd-8f89-c8e0136e6518",
   "metadata": {},
   "outputs": [],
   "source": []
  },
  {
   "cell_type": "code",
   "execution_count": 14,
   "id": "07377988-77c3-4b18-b7a6-a15cf997136b",
   "metadata": {},
   "outputs": [
    {
     "data": {
      "text/plain": [
       "['emma',\n",
       " 'olivia',\n",
       " 'ava',\n",
       " 'isabella',\n",
       " 'sophia',\n",
       " 'charlotte',\n",
       " 'mia',\n",
       " 'amelia',\n",
       " 'harper',\n",
       " 'evelyn']"
      ]
     },
     "execution_count": 14,
     "metadata": {},
     "output_type": "execute_result"
    }
   ],
   "source": [
    "words[:10]"
   ]
  },
  {
   "cell_type": "code",
   "execution_count": 52,
   "id": "a49c520e-4e72-49a1-b9a3-582a1bf0e5be",
   "metadata": {},
   "outputs": [
    {
     "data": {
      "text/plain": [
       "{'a': 1,\n",
       " 'b': 2,\n",
       " 'c': 3,\n",
       " 'd': 4,\n",
       " 'e': 5,\n",
       " 'f': 6,\n",
       " 'g': 7,\n",
       " 'h': 8,\n",
       " 'i': 9,\n",
       " 'j': 10,\n",
       " 'k': 11,\n",
       " 'l': 12,\n",
       " 'm': 13,\n",
       " 'n': 14,\n",
       " 'o': 15,\n",
       " 'p': 16,\n",
       " 'q': 17,\n",
       " 'r': 18,\n",
       " 's': 19,\n",
       " 't': 20,\n",
       " 'u': 21,\n",
       " 'v': 22,\n",
       " 'w': 23,\n",
       " 'x': 24,\n",
       " 'y': 25,\n",
       " 'z': 26}"
      ]
     },
     "execution_count": 52,
     "metadata": {},
     "output_type": "execute_result"
    }
   ],
   "source": [
    "N = torch.zeros((27,27),dtype=torch.int32)\n",
    "chars = sorted(list(set(''.join(words))))\n",
    "stoi = {s:i+1 for i,s in enumerate(chars)}\n",
    "stoi"
   ]
  },
  {
   "cell_type": "code",
   "execution_count": 54,
   "id": "933e9f1e-f8da-4832-9bcf-2b4c021466f7",
   "metadata": {},
   "outputs": [],
   "source": [
    "#Keep a dictionary to store count of the bigrams \n",
    "stoi['.'] = 0\n",
    "for w in words:\n",
    "    chs = ['.'] + list(w) + ['.']\n",
    "    for ch1,ch2 in zip(chs,chs[1:]):\n",
    "        ix1 = stoi[ch1]\n",
    "        ix2 = stoi[ch2]\n",
    "        N[ix1,ix2] +=1"
   ]
  },
  {
   "cell_type": "code",
   "execution_count": 55,
   "id": "bfed8b52-71f4-40aa-972d-00b33a6da7fe",
   "metadata": {},
   "outputs": [
    {
     "data": {
      "text/plain": [
       "{'a': 1,\n",
       " 'b': 2,\n",
       " 'c': 3,\n",
       " 'd': 4,\n",
       " 'e': 5,\n",
       " 'f': 6,\n",
       " 'g': 7,\n",
       " 'h': 8,\n",
       " 'i': 9,\n",
       " 'j': 10,\n",
       " 'k': 11,\n",
       " 'l': 12,\n",
       " 'm': 13,\n",
       " 'n': 14,\n",
       " 'o': 15,\n",
       " 'p': 16,\n",
       " 'q': 17,\n",
       " 'r': 18,\n",
       " 's': 19,\n",
       " 't': 20,\n",
       " 'u': 21,\n",
       " 'v': 22,\n",
       " 'w': 23,\n",
       " 'x': 24,\n",
       " 'y': 25,\n",
       " 'z': 26,\n",
       " '.': 0}"
      ]
     },
     "execution_count": 55,
     "metadata": {},
     "output_type": "execute_result"
    }
   ],
   "source": [
    "stoi\n",
    "\n"
   ]
  },
  {
   "cell_type": "code",
   "execution_count": 51,
   "id": "e1e8eaa6-f898-4a99-8f96-00e91c4ed947",
   "metadata": {},
   "outputs": [
    {
     "data": {
      "text/plain": [
       "<matplotlib.image.AxesImage at 0x12f334d90>"
      ]
     },
     "execution_count": 51,
     "metadata": {},
     "output_type": "execute_result"
    },
    {
     "data": {
      "image/png": "[encoded data removed]",
      "text/plain": [
       "<Figure size 640x480 with 1 Axes>"
      ]
     },
     "metadata": {},
     "output_type": "display_data"
    }
   ],
   "source": [
    "import matplotlib.pyplot as plt\n",
    "%matplotlib inline\n",
    "plt.imshow(N)\n"
   ]
  },
  {
   "cell_type": "code",
   "execution_count": 56,
   "id": "69247863-1b9c-47c1-b9ff-fbf52989f263",
   "metadata": {},
   "outputs": [
    {
     "data": {
      "text/plain": [
       "tensor([   0, 4410, 1306, 1542, 1690, 1531,  417,  669,  874,  591, 2422, 2963,\n",
       "        1572, 2538, 1146,  394,  515,   92, 1639, 2055, 1308,   78,  376,  307,\n",
       "         134,  535,  929], dtype=torch.int32)"
      ]
     },
     "execution_count": 56,
     "metadata": {},
     "output_type": "execute_result"
    }
   ],
   "source": [
    "N[0]\n"
   ]
  },
  {
   "cell_type": "code",
   "execution_count": 60,
   "id": "eaa36a8f-9841-4633-b62f-28cef9f8cf3b",
   "metadata": {},
   "outputs": [],
   "source": [
    "p = N[0].float()\n"
   ]
  },
  {
   "cell_type": "code",
   "execution_count": 61,
   "id": "1f147afd-4bf5-4fff-91b4-03425fd924d9",
   "metadata": {},
   "outputs": [
    {
     "data": {
      "text/plain": [
       "tensor([   0., 4410., 1306., 1542., 1690., 1531.,  417.,  669.,  874.,  591.,\n",
       "        2422., 2963., 1572., 2538., 1146.,  394.,  515.,   92., 1639., 2055.,\n",
       "        1308.,   78.,  376.,  307.,  134.,  535.,  929.])"
      ]
     },
     "execution_count": 61,
     "metadata": {},
     "output_type": "execute_result"
    }
   ],
   "source": [
    "p"
   ]
  },
  {
   "cell_type": "code",
   "execution_count": 62,
   "id": "953dfe1c-652b-4cff-ac6a-252f359fbe3c",
   "metadata": {},
   "outputs": [],
   "source": [
    "p/=p.sum()"
   ]
  },
  {
   "cell_type": "code",
   "execution_count": 63,
   "id": "c1d3993d-b6a3-4381-9c6a-498b6643816e",
   "metadata": {},
   "outputs": [
    {
     "data": {
      "text/plain": [
       "tensor([0.0000, 0.1377, 0.0408, 0.0481, 0.0528, 0.0478, 0.0130, 0.0209, 0.0273,\n",
       "        0.0184, 0.0756, 0.0925, 0.0491, 0.0792, 0.0358, 0.0123, 0.0161, 0.0029,\n",
       "        0.0512, 0.0642, 0.0408, 0.0024, 0.0117, 0.0096, 0.0042, 0.0167, 0.0290])"
      ]
     },
     "execution_count": 63,
     "metadata": {},
     "output_type": "execute_result"
    }
   ],
   "source": [
    "p"
   ]
  },
  {
   "cell_type": "code",
   "execution_count": 64,
   "id": "33b6b61f-e751-4553-ae4e-b108a14d7529",
   "metadata": {},
   "outputs": [
    {
     "data": {
      "text/plain": [
       "tensor(1.)"
      ]
     },
     "execution_count": 64,
     "metadata": {},
     "output_type": "execute_result"
    }
   ],
   "source": [
    "p.sum()"
   ]
  },
  {
   "cell_type": "code",
   "execution_count": 65,
   "id": "ea4749f5-a7ab-41cf-9cea-502776ce43c3",
   "metadata": {},
   "outputs": [],
   "source": [
    "#Generator \n",
    "g = torch.Generator().manual_seed(2147483647)"
   ]
  },
  {
   "cell_type": "code",
   "execution_count": 67,
   "id": "ac3e52b0-8e92-47d7-9061-7c9707fb560d",
   "metadata": {},
   "outputs": [
    {
     "data": {
      "text/plain": [
       "tensor([0.6064, 0.3033, 0.0903])"
      ]
     },
     "execution_count": 67,
     "metadata": {},
     "output_type": "execute_result"
    }
   ],
   "source": [
    "p = torch.rand(3,generator = g)\n",
    "p = p/p.sum()\n",
    "p"
   ]
  },
  {
   "cell_type": "code",
   "execution_count": 68,
   "id": "aacd55ac-4bb1-41b4-85c7-f4bb3d60af56",
   "metadata": {},
   "outputs": [
    {
     "data": {
      "text/plain": [
       "tensor([1, 1, 2, 0, 0, 2, 1, 1, 0, 0, 0, 1, 1, 0, 0, 1, 1, 0, 0, 1])"
      ]
     },
     "execution_count": 68,
     "metadata": {},
     "output_type": "execute_result"
    }
   ],
   "source": [
    "torch.multinomial(p,num_samples = 20, replacement = True,generator=g)\n"
   ]
  },
  {
   "cell_type": "code",
   "execution_count": 69,
   "id": "dca2d1ea-7966-4de3-b8ac-bfc2b8b45dca",
   "metadata": {},
   "outputs": [],
   "source": [
    "itos = {i:s for s,i in stoi.items()}"
   ]
  },
  {
   "cell_type": "code",
   "execution_count": 70,
   "id": "1d185152-1113-43d9-b123-95c72427fe25",
   "metadata": {},
   "outputs": [
    {
     "data": {
      "text/plain": [
       "{1: 'a',\n",
       " 2: 'b',\n",
       " 3: 'c',\n",
       " 4: 'd',\n",
       " 5: 'e',\n",
       " 6: 'f',\n",
       " 7: 'g',\n",
       " 8: 'h',\n",
       " 9: 'i',\n",
       " 10: 'j',\n",
       " 11: 'k',\n",
       " 12: 'l',\n",
       " 13: 'm',\n",
       " 14: 'n',\n",
       " 15: 'o',\n",
       " 16: 'p',\n",
       " 17: 'q',\n",
       " 18: 'r',\n",
       " 19: 's',\n",
       " 20: 't',\n",
       " 21: 'u',\n",
       " 22: 'v',\n",
       " 23: 'w',\n",
       " 24: 'x',\n",
       " 25: 'y',\n",
       " 26: 'z',\n",
       " 0: '.'}"
      ]
     },
     "execution_count": 70,
     "metadata": {},
     "output_type": "execute_result"
    }
   ],
   "source": [
    "itos\n"
   ]
  },
  {
   "cell_type": "code",
   "execution_count": 82,
   "id": "fecf299e-ef28-43e4-8ec0-19e67722ee2f",
   "metadata": {},
   "outputs": [
    {
     "name": "stdout",
     "output_type": "stream",
     "text": [
      "rish.\n"
     ]
    }
   ],
   "source": [
    "out = []\n",
    "itos = {i:s for s,i in stoi.items()}\n",
    "ix = 0\n",
    "while True:\n",
    "    p = N[ix].float()\n",
    "    ix = torch.multinomial(p, num_samples=1, replacement=True, generator=g).item()\n",
    "    out.append(itos[ix])\n",
    "    if ix == 0:\n",
    "      break\n",
    "print(''.join(out))"
   ]
  },
  {
   "cell_type": "code",
   "execution_count": 83,
   "id": "6da82170-17e2-4d84-a98e-81b964ad308b",
   "metadata": {},
   "outputs": [],
   "source": [
    "P = (N+1).float()\n"
   ]
  },
  {
   "cell_type": "code",
   "execution_count": 84,
   "id": "8a4929fd-911b-4a39-a9ac-6ad965cf69a6",
   "metadata": {},
   "outputs": [
    {
     "data": {
      "text/plain": [
       "tensor([[1.0000e+00, 4.4110e+03, 1.3070e+03, 1.5430e+03, 1.6910e+03, 1.5320e+03,\n",
       "         4.1800e+02, 6.7000e+02, 8.7500e+02, 5.9200e+02, 2.4230e+03, 2.9640e+03,\n",
       "         1.5730e+03, 2.5390e+03, 1.1470e+03, 3.9500e+02, 5.1600e+02, 9.3000e+01,\n",
       "         1.6400e+03, 2.0560e+03, 1.3090e+03, 7.9000e+01, 3.7700e+02, 3.0800e+02,\n",
       "         1.3500e+02, 5.3600e+02, 9.3000e+02],\n",
       "        [6.6410e+03, 5.5700e+02, 5.4200e+02, 4.7100e+02, 1.0430e+03, 6.9300e+02,\n",
       "         1.3500e+02, 1.6900e+02, 2.3330e+03, 1.6510e+03, 1.7600e+02, 5.6900e+02,\n",
       "         2.5290e+03, 1.6350e+03, 5.4390e+03, 6.4000e+01, 8.3000e+01, 6.1000e+01,\n",
       "         3.2650e+03, 1.1190e+03, 6.8800e+02, 3.8200e+02, 8.3500e+02, 1.6200e+02,\n",
       "         1.8300e+02, 2.0510e+03, 4.3600e+02],\n",
       "        [1.1500e+02, 3.2200e+02, 3.9000e+01, 2.0000e+00, 6.6000e+01, 6.5600e+02,\n",
       "         1.0000e+00, 1.0000e+00, 4.2000e+01, 2.1800e+02, 2.0000e+00, 1.0000e+00,\n",
       "         1.0400e+02, 1.0000e+00, 5.0000e+00, 1.0600e+02, 1.0000e+00, 1.0000e+00,\n",
       "         8.4300e+02, 9.0000e+00, 3.0000e+00, 4.6000e+01, 1.0000e+00, 1.0000e+00,\n",
       "         1.0000e+00, 8.4000e+01, 1.0000e+00],\n",
       "        [9.8000e+01, 8.1600e+02, 1.0000e+00, 4.3000e+01, 2.0000e+00, 5.5200e+02,\n",
       "         1.0000e+00, 3.0000e+00, 6.6500e+02, 2.7200e+02, 4.0000e+00, 3.1700e+02,\n",
       "         1.1700e+02, 1.0000e+00, 1.0000e+00, 3.8100e+02, 2.0000e+00, 1.2000e+01,\n",
       "         7.7000e+01, 6.0000e+00, 3.6000e+01, 3.6000e+01, 1.0000e+00, 1.0000e+00,\n",
       "         4.0000e+00, 1.0500e+02, 5.0000e+00],\n",
       "        [5.1700e+02, 1.3040e+03, 2.0000e+00, 4.0000e+00, 1.5000e+02, 1.2840e+03,\n",
       "         6.0000e+00, 2.6000e+01, 1.1900e+02, 6.7500e+02, 1.0000e+01, 4.0000e+00,\n",
       "         6.1000e+01, 3.1000e+01, 3.2000e+01, 3.7900e+02, 1.0000e+00, 2.0000e+00,\n",
       "         4.2500e+02, 3.0000e+01, 5.0000e+00, 9.3000e+01, 1.8000e+01, 2.4000e+01,\n",
       "         1.0000e+00, 3.1800e+02, 2.0000e+00],\n",
       "        [3.9840e+03, 6.8000e+02, 1.2200e+02, 1.5400e+02, 3.8500e+02, 1.2720e+03,\n",
       "         8.3000e+01, 1.2600e+02, 1.5300e+02, 8.1900e+02, 5.6000e+01, 1.7900e+02,\n",
       "         3.2490e+03, 7.7000e+02, 2.6760e+03, 2.7000e+02, 8.4000e+01, 1.5000e+01,\n",
       "         1.9590e+03, 8.6200e+02, 5.8100e+02, 7.0000e+01, 4.6400e+02, 5.1000e+01,\n",
       "         1.3300e+02, 1.0710e+03, 1.8200e+02],\n",
       "        [8.1000e+01, 2.4300e+02, 1.0000e+00, 1.0000e+00, 1.0000e+00, 1.2400e+02,\n",
       "         4.5000e+01, 2.0000e+00, 2.0000e+00, 1.6100e+02, 1.0000e+00, 3.0000e+00,\n",
       "         2.1000e+01, 1.0000e+00, 5.0000e+00, 6.1000e+01, 1.0000e+00, 1.0000e+00,\n",
       "         1.1500e+02, 7.0000e+00, 1.9000e+01, 1.1000e+01, 1.0000e+00, 5.0000e+00,\n",
       "         1.0000e+00, 1.5000e+01, 3.0000e+00],\n",
       "        [1.0900e+02, 3.3100e+02, 4.0000e+00, 1.0000e+00, 2.0000e+01, 3.3500e+02,\n",
       "         2.0000e+00, 2.6000e+01, 3.6100e+02, 1.9100e+02, 4.0000e+00, 1.0000e+00,\n",
       "         3.3000e+01, 7.0000e+00, 2.8000e+01, 8.4000e+01, 1.0000e+00, 1.0000e+00,\n",
       "         2.0200e+02, 3.1000e+01, 3.2000e+01, 8.6000e+01, 2.0000e+00, 2.7000e+01,\n",
       "         1.0000e+00, 3.2000e+01, 2.0000e+00],\n",
       "        [2.4100e+03, 2.2450e+03, 9.0000e+00, 3.0000e+00, 2.5000e+01, 6.7500e+02,\n",
       "         3.0000e+00, 3.0000e+00, 2.0000e+00, 7.3000e+02, 1.0000e+01, 3.0000e+01,\n",
       "         1.8600e+02, 1.1800e+02, 1.3900e+02, 2.8800e+02, 2.0000e+00, 2.0000e+00,\n",
       "         2.0500e+02, 3.2000e+01, 7.2000e+01, 1.6700e+02, 4.0000e+01, 1.1000e+01,\n",
       "         1.0000e+00, 2.1400e+02, 2.1000e+01],\n",
       "        [2.4900e+03, 2.4460e+03, 1.1100e+02, 5.1000e+02, 4.4100e+02, 1.6540e+03,\n",
       "         1.0200e+02, 4.2900e+02, 9.6000e+01, 8.3000e+01, 7.7000e+01, 4.4600e+02,\n",
       "         1.3460e+03, 4.2800e+02, 2.1270e+03, 5.8900e+02, 5.4000e+01, 5.3000e+01,\n",
       "         8.5000e+02, 1.3170e+03, 5.4200e+02, 1.1000e+02, 2.7000e+02, 9.0000e+00,\n",
       "         9.0000e+01, 7.8000e+02, 2.7800e+02],\n",
       "        [7.2000e+01, 1.4740e+03, 2.0000e+00, 5.0000e+00, 5.0000e+00, 4.4100e+02,\n",
       "         1.0000e+00, 1.0000e+00, 4.6000e+01, 1.2000e+02, 3.0000e+00, 3.0000e+00,\n",
       "         1.0000e+01, 6.0000e+00, 3.0000e+00, 4.8000e+02, 2.0000e+00, 1.0000e+00,\n",
       "         1.2000e+01, 8.0000e+00, 3.0000e+00, 2.0300e+02, 6.0000e+00, 7.0000e+00,\n",
       "         1.0000e+00, 1.1000e+01, 1.0000e+00],\n",
       "        [3.6400e+02, 1.7320e+03, 3.0000e+00, 3.0000e+00, 3.0000e+00, 8.9600e+02,\n",
       "         2.0000e+00, 1.0000e+00, 3.0800e+02, 5.1000e+02, 3.0000e+00, 2.1000e+01,\n",
       "         1.4000e+02, 1.0000e+01, 2.7000e+01, 3.4500e+02, 1.0000e+00, 1.0000e+00,\n",
       "         1.1000e+02, 9.6000e+01, 1.8000e+01, 5.1000e+01, 3.0000e+00, 3.5000e+01,\n",
       "         1.0000e+00, 3.8000e+02, 3.0000e+00],\n",
       "        [1.3150e+03, 2.6240e+03, 5.3000e+01, 2.6000e+01, 1.3900e+02, 2.9220e+03,\n",
       "         2.3000e+01, 7.0000e+00, 2.0000e+01, 2.4810e+03, 7.0000e+00, 2.5000e+01,\n",
       "         1.3460e+03, 6.1000e+01, 1.5000e+01, 6.9300e+02, 1.6000e+01, 4.0000e+00,\n",
       "         1.9000e+01, 9.5000e+01, 7.8000e+01, 3.2500e+02, 7.3000e+01, 1.7000e+01,\n",
       "         1.0000e+00, 1.5890e+03, 1.1000e+01],\n",
       "        [5.1700e+02, 2.5910e+03, 1.1300e+02, 5.2000e+01, 2.5000e+01, 8.1900e+02,\n",
       "         2.0000e+00, 1.0000e+00, 6.0000e+00, 1.2570e+03, 8.0000e+00, 2.0000e+00,\n",
       "         6.0000e+00, 1.6900e+02, 2.1000e+01, 4.5300e+02, 3.9000e+01, 1.0000e+00,\n",
       "         9.8000e+01, 3.6000e+01, 5.0000e+00, 1.4000e+02, 4.0000e+00, 3.0000e+00,\n",
       "         1.0000e+00, 2.8800e+02, 1.2000e+01],\n",
       "        [6.7640e+03, 2.9780e+03, 9.0000e+00, 2.1400e+02, 7.0500e+02, 1.3600e+03,\n",
       "         1.2000e+01, 2.7400e+02, 2.7000e+01, 1.7260e+03, 4.5000e+01, 5.9000e+01,\n",
       "         1.9600e+02, 2.0000e+01, 1.9070e+03, 4.9700e+02, 6.0000e+00, 3.0000e+00,\n",
       "         4.5000e+01, 2.7900e+02, 4.4400e+02, 9.7000e+01, 5.6000e+01, 1.2000e+01,\n",
       "         7.0000e+00, 4.6600e+02, 1.4600e+02],\n",
       "        [8.5600e+02, 1.5000e+02, 1.4100e+02, 1.1500e+02, 1.9100e+02, 1.3300e+02,\n",
       "         3.5000e+01, 4.5000e+01, 1.7200e+02, 7.0000e+01, 1.7000e+01, 6.9000e+01,\n",
       "         6.2000e+02, 2.6200e+02, 2.4120e+03, 1.1600e+02, 9.6000e+01, 4.0000e+00,\n",
       "         1.0600e+03, 5.0500e+02, 1.1900e+02, 2.7600e+02, 1.7700e+02, 1.1500e+02,\n",
       "         4.6000e+01, 1.0400e+02, 5.5000e+01],\n",
       "        [3.4000e+01, 2.1000e+02, 3.0000e+00, 2.0000e+00, 1.0000e+00, 1.9800e+02,\n",
       "         2.0000e+00, 1.0000e+00, 2.0500e+02, 6.2000e+01, 2.0000e+00, 2.0000e+00,\n",
       "         1.7000e+01, 2.0000e+00, 2.0000e+00, 6.0000e+01, 4.0000e+01, 1.0000e+00,\n",
       "         1.5200e+02, 1.7000e+01, 1.8000e+01, 5.0000e+00, 1.0000e+00, 1.0000e+00,\n",
       "         1.0000e+00, 1.3000e+01, 1.0000e+00],\n",
       "        [2.9000e+01, 1.4000e+01, 1.0000e+00, 1.0000e+00, 1.0000e+00, 2.0000e+00,\n",
       "         1.0000e+00, 1.0000e+00, 1.0000e+00, 1.4000e+01, 1.0000e+00, 1.0000e+00,\n",
       "         2.0000e+00, 3.0000e+00, 1.0000e+00, 3.0000e+00, 1.0000e+00, 1.0000e+00,\n",
       "         2.0000e+00, 3.0000e+00, 1.0000e+00, 2.0700e+02, 1.0000e+00, 4.0000e+00,\n",
       "         1.0000e+00, 1.0000e+00, 1.0000e+00],\n",
       "        [1.3780e+03, 2.3570e+03, 4.2000e+01, 1.0000e+02, 1.8800e+02, 1.6980e+03,\n",
       "         1.0000e+01, 7.7000e+01, 1.2200e+02, 3.0340e+03, 2.6000e+01, 9.1000e+01,\n",
       "         4.1400e+02, 1.6300e+02, 1.4100e+02, 8.7000e+02, 1.5000e+01, 1.7000e+01,\n",
       "         4.2600e+02, 1.9100e+02, 2.0900e+02, 2.5300e+02, 8.1000e+01, 2.2000e+01,\n",
       "         4.0000e+00, 7.7400e+02, 2.4000e+01],\n",
       "        [1.1700e+03, 1.2020e+03, 2.2000e+01, 6.1000e+01, 1.0000e+01, 8.8500e+02,\n",
       "         3.0000e+00, 3.0000e+00, 1.2860e+03, 6.8500e+02, 3.0000e+00, 8.3000e+01,\n",
       "         2.8000e+02, 9.1000e+01, 2.5000e+01, 5.3200e+02, 5.2000e+01, 2.0000e+00,\n",
       "         5.6000e+01, 4.6200e+02, 7.6600e+02, 1.8600e+02, 1.5000e+01, 2.5000e+01,\n",
       "         1.0000e+00, 2.1600e+02, 1.1000e+01],\n",
       "        [4.8400e+02, 1.0280e+03, 2.0000e+00, 1.8000e+01, 1.0000e+00, 7.1700e+02,\n",
       "         3.0000e+00, 3.0000e+00, 6.4800e+02, 5.3300e+02, 4.0000e+00, 1.0000e+00,\n",
       "         1.3500e+02, 5.0000e+00, 2.3000e+01, 6.6800e+02, 1.0000e+00, 1.0000e+00,\n",
       "         3.5300e+02, 3.6000e+01, 3.7500e+02, 7.9000e+01, 1.6000e+01, 1.2000e+01,\n",
       "         3.0000e+00, 3.4200e+02, 1.0600e+02],\n",
       "        [1.5600e+02, 1.6400e+02, 1.0400e+02, 1.0400e+02, 1.3700e+02, 1.7000e+02,\n",
       "         2.0000e+01, 4.8000e+01, 5.9000e+01, 1.2200e+02, 1.5000e+01, 9.4000e+01,\n",
       "         3.0200e+02, 1.5500e+02, 2.7600e+02, 1.1000e+01, 1.7000e+01, 1.1000e+01,\n",
       "         4.1500e+02, 4.7500e+02, 8.3000e+01, 4.0000e+00, 3.8000e+01, 8.7000e+01,\n",
       "         3.5000e+01, 1.4000e+01, 4.6000e+01],\n",
       "        [8.9000e+01, 6.4300e+02, 2.0000e+00, 1.0000e+00, 2.0000e+00, 5.6900e+02,\n",
       "         1.0000e+00, 1.0000e+00, 2.0000e+00, 9.1200e+02, 1.0000e+00, 4.0000e+00,\n",
       "         1.5000e+01, 1.0000e+00, 9.0000e+00, 1.5400e+02, 1.0000e+00, 1.0000e+00,\n",
       "         4.9000e+01, 1.0000e+00, 1.0000e+00, 8.0000e+00, 8.0000e+00, 1.0000e+00,\n",
       "         1.0000e+00, 1.2200e+02, 1.0000e+00],\n",
       "        [5.2000e+01, 2.8100e+02, 2.0000e+00, 1.0000e+00, 9.0000e+00, 1.5000e+02,\n",
       "         3.0000e+00, 2.0000e+00, 2.4000e+01, 1.4900e+02, 1.0000e+00, 7.0000e+00,\n",
       "         1.4000e+01, 3.0000e+00, 5.9000e+01, 3.7000e+01, 1.0000e+00, 1.0000e+00,\n",
       "         2.3000e+01, 2.1000e+01, 9.0000e+00, 2.6000e+01, 1.0000e+00, 3.0000e+00,\n",
       "         1.0000e+00, 7.4000e+01, 2.0000e+00],\n",
       "        [1.6500e+02, 1.0400e+02, 2.0000e+00, 5.0000e+00, 6.0000e+00, 3.7000e+01,\n",
       "         4.0000e+00, 1.0000e+00, 2.0000e+00, 1.0300e+02, 1.0000e+00, 1.0000e+00,\n",
       "         4.0000e+01, 2.0000e+00, 2.0000e+00, 4.2000e+01, 1.0000e+00, 1.0000e+00,\n",
       "         1.0000e+00, 3.2000e+01, 7.1000e+01, 6.0000e+00, 1.0000e+00, 4.0000e+00,\n",
       "         3.9000e+01, 3.1000e+01, 2.0000e+01],\n",
       "        [2.0080e+03, 2.1440e+03, 2.8000e+01, 1.1600e+02, 2.7300e+02, 3.0200e+02,\n",
       "         1.3000e+01, 3.1000e+01, 2.3000e+01, 1.9300e+02, 2.4000e+01, 8.7000e+01,\n",
       "         1.1050e+03, 1.4900e+02, 1.8270e+03, 2.7200e+02, 1.6000e+01, 7.0000e+00,\n",
       "         2.9200e+02, 4.0200e+02, 1.0500e+02, 1.4200e+02, 1.0700e+02, 5.0000e+00,\n",
       "         2.9000e+01, 2.4000e+01, 7.9000e+01],\n",
       "        [1.6100e+02, 8.6100e+02, 5.0000e+00, 3.0000e+00, 3.0000e+00, 3.7400e+02,\n",
       "         1.0000e+00, 2.0000e+00, 4.4000e+01, 3.6500e+02, 3.0000e+00, 3.0000e+00,\n",
       "         1.2400e+02, 3.6000e+01, 5.0000e+00, 1.1100e+02, 3.0000e+00, 1.0000e+00,\n",
       "         3.3000e+01, 5.0000e+00, 5.0000e+00, 7.4000e+01, 3.0000e+00, 4.0000e+00,\n",
       "         2.0000e+00, 1.4800e+02, 4.6000e+01]])"
      ]
     },
     "execution_count": 84,
     "metadata": {},
     "output_type": "execute_result"
    }
   ],
   "source": [
    "P\n"
   ]
  },
  {
   "cell_type": "code",
   "execution_count": 85,
   "id": "594be155-1fd6-43a1-9d73-4827b72370e8",
   "metadata": {},
   "outputs": [],
   "source": [
    "P /= P.sum(1,keepdims=True)"
   ]
  },
  {
   "cell_type": "code",
   "execution_count": 86,
   "id": "dca2f919-5cc9-45ba-891c-4e8de4fe2c2f",
   "metadata": {},
   "outputs": [
    {
     "data": {
      "text/plain": [
       "tensor([[3.1192e-05, 1.3759e-01, 4.0767e-02, 4.8129e-02, 5.2745e-02, 4.7785e-02,\n",
       "         1.3038e-02, 2.0898e-02, 2.7293e-02, 1.8465e-02, 7.5577e-02, 9.2452e-02,\n",
       "         4.9064e-02, 7.9195e-02, 3.5777e-02, 1.2321e-02, 1.6095e-02, 2.9008e-03,\n",
       "         5.1154e-02, 6.4130e-02, 4.0830e-02, 2.4641e-03, 1.1759e-02, 9.6070e-03,\n",
       "         4.2109e-03, 1.6719e-02, 2.9008e-02],\n",
       "        [1.9583e-01, 1.6425e-02, 1.5983e-02, 1.3889e-02, 3.0756e-02, 2.0435e-02,\n",
       "         3.9809e-03, 4.9835e-03, 6.8796e-02, 4.8685e-02, 5.1899e-03, 1.6779e-02,\n",
       "         7.4575e-02, 4.8213e-02, 1.6039e-01, 1.8872e-03, 2.4475e-03, 1.7988e-03,\n",
       "         9.6279e-02, 3.2997e-02, 2.0288e-02, 1.1264e-02, 2.4623e-02, 4.7771e-03,\n",
       "         5.3963e-03, 6.0480e-02, 1.2857e-02],\n",
       "        [4.3039e-02, 1.2051e-01, 1.4596e-02, 7.4850e-04, 2.4701e-02, 2.4551e-01,\n",
       "         3.7425e-04, 3.7425e-04, 1.5719e-02, 8.1587e-02, 7.4850e-04, 3.7425e-04,\n",
       "         3.8922e-02, 3.7425e-04, 1.8713e-03, 3.9671e-02, 3.7425e-04, 3.7425e-04,\n",
       "         3.1549e-01, 3.3683e-03, 1.1228e-03, 1.7216e-02, 3.7425e-04, 3.7425e-04,\n",
       "         3.7425e-04, 3.1437e-02, 3.7425e-04],\n",
       "        [2.7536e-02, 2.2928e-01, 2.8098e-04, 1.2082e-02, 5.6196e-04, 1.5510e-01,\n",
       "         2.8098e-04, 8.4293e-04, 1.8685e-01, 7.6426e-02, 1.1239e-03, 8.9070e-02,\n",
       "         3.2874e-02, 2.8098e-04, 2.8098e-04, 1.0705e-01, 5.6196e-04, 3.3717e-03,\n",
       "         2.1635e-02, 1.6859e-03, 1.0115e-02, 1.0115e-02, 2.8098e-04, 2.8098e-04,\n",
       "         1.1239e-03, 2.9503e-02, 1.4049e-03],\n",
       "        [9.3609e-02, 2.3610e-01, 3.6212e-04, 7.2424e-04, 2.7159e-02, 2.3248e-01,\n",
       "         1.0864e-03, 4.7076e-03, 2.1546e-02, 1.2222e-01, 1.8106e-03, 7.2424e-04,\n",
       "         1.1045e-02, 5.6129e-03, 5.7940e-03, 6.8622e-02, 1.8106e-04, 3.6212e-04,\n",
       "         7.6951e-02, 5.4318e-03, 9.0531e-04, 1.6839e-02, 3.2591e-03, 4.3455e-03,\n",
       "         1.8106e-04, 5.7577e-02, 3.6212e-04],\n",
       "        [1.9482e-01, 3.3252e-02, 5.9658e-03, 7.5306e-03, 1.8826e-02, 6.2200e-02,\n",
       "         4.0587e-03, 6.1614e-03, 7.4817e-03, 4.0049e-02, 2.7384e-03, 8.7531e-03,\n",
       "         1.5888e-01, 3.7653e-02, 1.3086e-01, 1.3203e-02, 4.1076e-03, 7.3350e-04,\n",
       "         9.5795e-02, 4.2152e-02, 2.8411e-02, 3.4230e-03, 2.2689e-02, 2.4939e-03,\n",
       "         6.5037e-03, 5.2372e-02, 8.8998e-03],\n",
       "        [8.6910e-02, 2.6073e-01, 1.0730e-03, 1.0730e-03, 1.0730e-03, 1.3305e-01,\n",
       "         4.8283e-02, 2.1459e-03, 2.1459e-03, 1.7275e-01, 1.0730e-03, 3.2189e-03,\n",
       "         2.2532e-02, 1.0730e-03, 5.3648e-03, 6.5451e-02, 1.0730e-03, 1.0730e-03,\n",
       "         1.2339e-01, 7.5107e-03, 2.0386e-02, 1.1803e-02, 1.0730e-03, 5.3648e-03,\n",
       "         1.0730e-03, 1.6094e-02, 3.2189e-03],\n",
       "        [5.5783e-02, 1.6940e-01, 2.0471e-03, 5.1177e-04, 1.0235e-02, 1.7144e-01,\n",
       "         1.0235e-03, 1.3306e-02, 1.8475e-01, 9.7748e-02, 2.0471e-03, 5.1177e-04,\n",
       "         1.6888e-02, 3.5824e-03, 1.4330e-02, 4.2989e-02, 5.1177e-04, 5.1177e-04,\n",
       "         1.0338e-01, 1.5865e-02, 1.6377e-02, 4.4012e-02, 1.0235e-03, 1.3818e-02,\n",
       "         5.1177e-04, 1.6377e-02, 1.0235e-03],\n",
       "        [3.1532e-01, 2.9373e-01, 1.1775e-03, 3.9252e-04, 3.2710e-03, 8.8316e-02,\n",
       "         3.9252e-04, 3.9252e-04, 2.6168e-04, 9.5512e-02, 1.3084e-03, 3.9252e-03,\n",
       "         2.4336e-02, 1.5439e-02, 1.8187e-02, 3.7682e-02, 2.6168e-04, 2.6168e-04,\n",
       "         2.6822e-02, 4.1868e-03, 9.4204e-03, 2.1850e-02, 5.2335e-03, 1.4392e-03,\n",
       "         1.3084e-04, 2.7999e-02, 2.7476e-03],\n",
       "        [1.4046e-01, 1.3797e-01, 6.2613e-03, 2.8768e-02, 2.4876e-02, 9.3299e-02,\n",
       "         5.7536e-03, 2.4199e-02, 5.4152e-03, 4.6819e-03, 4.3434e-03, 2.5158e-02,\n",
       "         7.5925e-02, 2.4143e-02, 1.1998e-01, 3.3224e-02, 3.0460e-03, 2.9896e-03,\n",
       "         4.7947e-02, 7.4289e-02, 3.0573e-02, 6.2049e-03, 1.5230e-02, 5.0767e-04,\n",
       "         5.0767e-03, 4.3998e-02, 1.5681e-02],\n",
       "        [2.4599e-02, 5.0359e-01, 6.8329e-04, 1.7082e-03, 1.7082e-03, 1.5067e-01,\n",
       "         3.4165e-04, 3.4165e-04, 1.5716e-02, 4.0998e-02, 1.0249e-03, 1.0249e-03,\n",
       "         3.4165e-03, 2.0499e-03, 1.0249e-03, 1.6399e-01, 6.8329e-04, 3.4165e-04,\n",
       "         4.0998e-03, 2.7332e-03, 1.0249e-03, 6.9354e-02, 2.0499e-03, 2.3915e-03,\n",
       "         3.4165e-04, 3.7581e-03, 3.4165e-04],\n",
       "        [7.1837e-02, 3.4182e-01, 5.9207e-04, 5.9207e-04, 5.9207e-04, 1.7683e-01,\n",
       "         3.9471e-04, 1.9736e-04, 6.0785e-02, 1.0065e-01, 5.9207e-04, 4.1445e-03,\n",
       "         2.7630e-02, 1.9736e-03, 5.3286e-03, 6.8088e-02, 1.9736e-04, 1.9736e-04,\n",
       "         2.1709e-02, 1.8946e-02, 3.5524e-03, 1.0065e-02, 5.9207e-04, 6.9074e-03,\n",
       "         1.9736e-04, 7.4995e-02, 5.9207e-04],\n",
       "        [9.4029e-02, 1.8763e-01, 3.7898e-03, 1.8591e-03, 9.9392e-03, 2.0894e-01,\n",
       "         1.6446e-03, 5.0054e-04, 1.4301e-03, 1.7740e-01, 5.0054e-04, 1.7876e-03,\n",
       "         9.6246e-02, 4.3618e-03, 1.0726e-03, 4.9553e-02, 1.1441e-03, 2.8602e-04,\n",
       "         1.3586e-03, 6.7930e-03, 5.5774e-03, 2.3239e-02, 5.2199e-03, 1.2156e-03,\n",
       "         7.1505e-05, 1.1362e-01, 7.8656e-04],\n",
       "        [7.7523e-02, 3.8851e-01, 1.6944e-02, 7.7973e-03, 3.7487e-03, 1.2281e-01,\n",
       "         2.9990e-04, 1.4995e-04, 8.9969e-04, 1.8848e-01, 1.1996e-03, 2.9990e-04,\n",
       "         8.9969e-04, 2.5341e-02, 3.1489e-03, 6.7926e-02, 5.8480e-03, 1.4995e-04,\n",
       "         1.4695e-02, 5.3981e-03, 7.4974e-04, 2.0993e-02, 5.9979e-04, 4.4984e-04,\n",
       "         1.4995e-04, 4.3185e-02, 1.7994e-03],\n",
       "        [3.6853e-01, 1.6225e-01, 4.9036e-04, 1.1660e-02, 3.8411e-02, 7.4098e-02,\n",
       "         6.5381e-04, 1.4929e-02, 1.4711e-03, 9.4039e-02, 2.4518e-03, 3.2146e-03,\n",
       "         1.0679e-02, 1.0897e-03, 1.0390e-01, 2.7079e-02, 3.2690e-04, 1.6345e-04,\n",
       "         2.4518e-03, 1.5201e-02, 2.4191e-02, 5.2850e-03, 3.0511e-03, 6.5381e-04,\n",
       "         3.8139e-04, 2.5390e-02, 7.9547e-03],\n",
       "        [1.0752e-01, 1.8842e-02, 1.7711e-02, 1.4445e-02, 2.3992e-02, 1.6706e-02,\n",
       "         4.3964e-03, 5.6526e-03, 2.1605e-02, 8.7929e-03, 2.1354e-03, 8.6673e-03,\n",
       "         7.7880e-02, 3.2910e-02, 3.0298e-01, 1.4571e-02, 1.2059e-02, 5.0245e-04,\n",
       "         1.3315e-01, 6.3434e-02, 1.4948e-02, 3.4669e-02, 2.2233e-02, 1.4445e-02,\n",
       "         5.7782e-03, 1.3064e-02, 6.9087e-03],\n",
       "        [3.2289e-02, 1.9943e-01, 2.8490e-03, 1.8993e-03, 9.4967e-04, 1.8803e-01,\n",
       "         1.8993e-03, 9.4967e-04, 1.9468e-01, 5.8879e-02, 1.8993e-03, 1.8993e-03,\n",
       "         1.6144e-02, 1.8993e-03, 1.8993e-03, 5.6980e-02, 3.7987e-02, 9.4967e-04,\n",
       "         1.4435e-01, 1.6144e-02, 1.7094e-02, 4.7483e-03, 9.4967e-04, 9.4967e-04,\n",
       "         9.4967e-04, 1.2346e-02, 9.4967e-04],\n",
       "        [9.6990e-02, 4.6823e-02, 3.3445e-03, 3.3445e-03, 3.3445e-03, 6.6890e-03,\n",
       "         3.3445e-03, 3.3445e-03, 3.3445e-03, 4.6823e-02, 3.3445e-03, 3.3445e-03,\n",
       "         6.6890e-03, 1.0033e-02, 3.3445e-03, 1.0033e-02, 3.3445e-03, 3.3445e-03,\n",
       "         6.6890e-03, 1.0033e-02, 3.3445e-03, 6.9231e-01, 3.3445e-03, 1.3378e-02,\n",
       "         3.3445e-03, 3.3445e-03, 3.3445e-03],\n",
       "        [1.0827e-01, 1.8520e-01, 3.3001e-03, 7.8573e-03, 1.4772e-02, 1.3342e-01,\n",
       "         7.8573e-04, 6.0501e-03, 9.5859e-03, 2.3839e-01, 2.0429e-03, 7.1502e-03,\n",
       "         3.2529e-02, 1.2807e-02, 1.1079e-02, 6.8359e-02, 1.1786e-03, 1.3357e-03,\n",
       "         3.3472e-02, 1.5007e-02, 1.6422e-02, 1.9879e-02, 6.3644e-03, 1.7286e-03,\n",
       "         3.1429e-04, 6.0816e-02, 1.8858e-03],\n",
       "        [1.4386e-01, 1.4779e-01, 2.7050e-03, 7.5003e-03, 1.2296e-03, 1.0882e-01,\n",
       "         3.6887e-04, 3.6887e-04, 1.5812e-01, 8.4225e-02, 3.6887e-04, 1.0205e-02,\n",
       "         3.4428e-02, 1.1189e-02, 3.0739e-03, 6.5413e-02, 6.3937e-03, 2.4591e-04,\n",
       "         6.8855e-03, 5.6806e-02, 9.4184e-02, 2.2870e-02, 1.8443e-03, 3.0739e-03,\n",
       "         1.2296e-04, 2.6558e-02, 1.3525e-03],\n",
       "        [8.6475e-02, 1.8367e-01, 3.5733e-04, 3.2160e-03, 1.7867e-04, 1.2810e-01,\n",
       "         5.3600e-04, 5.3600e-04, 1.1578e-01, 9.5230e-02, 7.1467e-04, 1.7867e-04,\n",
       "         2.4120e-02, 8.9334e-04, 4.1093e-03, 1.1935e-01, 1.7867e-04, 1.7867e-04,\n",
       "         6.3070e-02, 6.4320e-03, 6.7000e-02, 1.4115e-02, 2.8587e-03, 2.1440e-03,\n",
       "         5.3600e-04, 6.1104e-02, 1.8939e-02],\n",
       "        [4.9336e-02, 5.1866e-02, 3.2891e-02, 3.2891e-02, 4.3327e-02, 5.3763e-02,\n",
       "         6.3251e-03, 1.5180e-02, 1.8659e-02, 3.8583e-02, 4.7438e-03, 2.9728e-02,\n",
       "         9.5509e-02, 4.9020e-02, 8.7287e-02, 3.4788e-03, 5.3763e-03, 3.4788e-03,\n",
       "         1.3125e-01, 1.5022e-01, 2.6249e-02, 1.2650e-03, 1.2018e-02, 2.7514e-02,\n",
       "         1.1069e-02, 4.4276e-03, 1.4548e-02],\n",
       "        [3.4231e-02, 2.4731e-01, 7.6923e-04, 3.8462e-04, 7.6923e-04, 2.1885e-01,\n",
       "         3.8462e-04, 3.8462e-04, 7.6923e-04, 3.5077e-01, 3.8462e-04, 1.5385e-03,\n",
       "         5.7692e-03, 3.8462e-04, 3.4615e-03, 5.9231e-02, 3.8462e-04, 3.8462e-04,\n",
       "         1.8846e-02, 3.8462e-04, 3.8462e-04, 3.0769e-03, 3.0769e-03, 3.8462e-04,\n",
       "         3.8462e-04, 4.6923e-02, 3.8462e-04],\n",
       "        [5.4393e-02, 2.9393e-01, 2.0921e-03, 1.0460e-03, 9.4142e-03, 1.5690e-01,\n",
       "         3.1381e-03, 2.0921e-03, 2.5105e-02, 1.5586e-01, 1.0460e-03, 7.3222e-03,\n",
       "         1.4644e-02, 3.1381e-03, 6.1715e-02, 3.8703e-02, 1.0460e-03, 1.0460e-03,\n",
       "         2.4059e-02, 2.1967e-02, 9.4142e-03, 2.7197e-02, 1.0460e-03, 3.1381e-03,\n",
       "         1.0460e-03, 7.7406e-02, 2.0921e-03],\n",
       "        [2.2790e-01, 1.4365e-01, 2.7624e-03, 6.9061e-03, 8.2873e-03, 5.1105e-02,\n",
       "         5.5249e-03, 1.3812e-03, 2.7624e-03, 1.4227e-01, 1.3812e-03, 1.3812e-03,\n",
       "         5.5249e-02, 2.7624e-03, 2.7624e-03, 5.8011e-02, 1.3812e-03, 1.3812e-03,\n",
       "         1.3812e-03, 4.4199e-02, 9.8066e-02, 8.2873e-03, 1.3812e-03, 5.5249e-03,\n",
       "         5.3867e-02, 4.2818e-02, 2.7624e-02],\n",
       "        [2.0484e-01, 2.1871e-01, 2.8563e-03, 1.1833e-02, 2.7849e-02, 3.0807e-02,\n",
       "         1.3261e-03, 3.1623e-03, 2.3462e-03, 1.9688e-02, 2.4482e-03, 8.8748e-03,\n",
       "         1.1272e-01, 1.5199e-02, 1.8637e-01, 2.7747e-02, 1.6322e-03, 7.1407e-04,\n",
       "         2.9787e-02, 4.1008e-02, 1.0711e-02, 1.4485e-02, 1.0915e-02, 5.1005e-04,\n",
       "         2.9583e-03, 2.4482e-03, 8.0588e-03],\n",
       "        [6.6392e-02, 3.5505e-01, 2.0619e-03, 1.2371e-03, 1.2371e-03, 1.5423e-01,\n",
       "         4.1237e-04, 8.2474e-04, 1.8144e-02, 1.5052e-01, 1.2371e-03, 1.2371e-03,\n",
       "         5.1134e-02, 1.4845e-02, 2.0619e-03, 4.5773e-02, 1.2371e-03, 4.1237e-04,\n",
       "         1.3608e-02, 2.0619e-03, 2.0619e-03, 3.0515e-02, 1.2371e-03, 1.6495e-03,\n",
       "         8.2474e-04, 6.1031e-02, 1.8969e-02]])"
      ]
     },
     "execution_count": 86,
     "metadata": {},
     "output_type": "execute_result"
    }
   ],
   "source": [
    "\n",
    "P"
   ]
  },
  {
   "cell_type": "code",
   "execution_count": 87,
   "id": "1ce0713c-4951-4372-944d-e41a076759ad",
   "metadata": {},
   "outputs": [
    {
     "name": "stdout",
     "output_type": "stream",
     "text": [
      "cexze.\n",
      "momasurailezitynn.\n",
      "konimittain.\n",
      "llayn.\n",
      "ka.\n"
     ]
    }
   ],
   "source": [
    "g = torch.Generator().manual_seed(2147483647)\n",
    "\n",
    "for i in range(5):\n",
    "  \n",
    "  out = []\n",
    "  ix = 0\n",
    "  while True:\n",
    "    p = P[ix]\n",
    "    ix = torch.multinomial(p, num_samples=1, replacement=True, generator=g).item()\n",
    "    out.append(itos[ix])\n",
    "    if ix == 0:\n",
    "      break\n",
    "  print(''.join(out))"
   ]
  },
  {
   "cell_type": "code",
   "execution_count": 88,
   "id": "63eb7534-a908-4d70-91f3-319421922763",
   "metadata": {},
   "outputs": [],
   "source": [
    "#Now we compute the negative log likelihood\n",
    "#Since log is monotonically increasing, -ll will tend to zero for better perf"
   ]
  },
  {
   "cell_type": "code",
   "execution_count": 89,
   "id": "16396070-e287-403e-b94f-a84e33712c19",
   "metadata": {},
   "outputs": [
    {
     "name": "stdout",
     "output_type": "stream",
     "text": [
      "log_likelihood=tensor(-559951.5625)\n",
      "nll=tensor(559951.5625)\n",
      "2.4543561935424805\n"
     ]
    }
   ],
   "source": [
    "log_likelihood = 0.0\n",
    "n =0\n",
    "for w in words:\n",
    "    chs = [\".\"] + list(w) + [\".\"]\n",
    "    for ch1,ch2 in zip(chs,chs[1:]):\n",
    "        idx1 = stoi[ch1]\n",
    "        idx2 = stoi[ch2] \n",
    "        prob = P[idx1,idx2]\n",
    "        logprob = torch.log(prob)\n",
    "        log_likelihood += logprob\n",
    "        n+=1\n",
    "\n",
    "print(f'{log_likelihood=}')\n",
    "nll = -log_likelihood\n",
    "print(f'{nll=}')\n",
    "print(f'{nll/n}')\n",
    "        "
   ]
  },
  {
   "cell_type": "code",
   "execution_count": 90,
   "id": "c9aec739-7399-4d46-a238-8e35016a8b31",
   "metadata": {},
   "outputs": [
    {
     "name": "stdout",
     "output_type": "stream",
     "text": [
      ". e\n",
      "e m\n",
      "m m\n",
      "m a\n",
      "a .\n"
     ]
    }
   ],
   "source": [
    "xs, ys = [], []\n",
    "\n",
    "for w in words[:1]:\n",
    "  chs = ['.'] + list(w) + ['.']\n",
    "  for ch1, ch2 in zip(chs, chs[1:]):\n",
    "    ix1 = stoi[ch1]\n",
    "    ix2 = stoi[ch2]\n",
    "    print(ch1, ch2)\n",
    "    xs.append(ix1)\n",
    "    ys.append(ix2)\n",
    "    \n",
    "xs = torch.tensor(xs)\n",
    "ys = torch.tensor(ys)"
   ]
  },
  {
   "cell_type": "code",
   "execution_count": 91,
   "id": "ea2ae758-2966-4823-886f-8a940e8ba43d",
   "metadata": {},
   "outputs": [
    {
     "data": {
      "text/plain": [
       "(tensor([ 0,  5, 13, 13,  1]), tensor([ 5, 13, 13,  1,  0]))"
      ]
     },
     "execution_count": 91,
     "metadata": {},
     "output_type": "execute_result"
    }
   ],
   "source": [
    "xs,ys\n"
   ]
  },
  {
   "cell_type": "code",
   "execution_count": 92,
   "id": "97ab5794-25a9-4c59-a097-e3cc97766dfc",
   "metadata": {},
   "outputs": [],
   "source": [
    "#Since we're feeding this values into a neural network , it's better to pass vectors instead of our indexed integers"
   ]
  },
  {
   "cell_type": "code",
   "execution_count": 93,
   "id": "7cb9b0dc-62e9-4683-92d0-03770e0a56eb",
   "metadata": {},
   "outputs": [],
   "source": [
    "#Thus we use one hot encoding here \n"
   ]
  },
  {
   "cell_type": "code",
   "execution_count": 94,
   "id": "3d01b962-5169-4069-b4b4-c0c72026b958",
   "metadata": {},
   "outputs": [],
   "source": [
    "import torch.nn.functional as F\n"
   ]
  },
  {
   "cell_type": "code",
   "execution_count": 104,
   "id": "c4e0ebe1-cd91-4629-904a-c891837af67d",
   "metadata": {},
   "outputs": [],
   "source": [
    "xenc=F.one_hot(xs,num_classes=27)"
   ]
  },
  {
   "cell_type": "code",
   "execution_count": 105,
   "id": "df3c2ea2-5442-432d-8cab-12d7f95dcb4f",
   "metadata": {},
   "outputs": [
    {
     "data": {
      "text/plain": [
       "torch.Size([5, 27])"
      ]
     },
     "execution_count": 105,
     "metadata": {},
     "output_type": "execute_result"
    }
   ],
   "source": [
    "#Thus if it's 13 , the 13th bit is set to 1\n",
    "xenc.shape"
   ]
  },
  {
   "cell_type": "code",
   "execution_count": 111,
   "id": "32482dd6-e631-41ae-b7e5-e58d5df0f88b",
   "metadata": {},
   "outputs": [
    {
     "data": {
      "text/plain": [
       "torch.float32"
      ]
     },
     "execution_count": 111,
     "metadata": {},
     "output_type": "execute_result"
    }
   ],
   "source": [
    "xenc.dtype\n"
   ]
  },
  {
   "cell_type": "code",
   "execution_count": 109,
   "id": "761467cb-1525-4371-9a89-622442f8e2ad",
   "metadata": {},
   "outputs": [],
   "source": [
    "xenc = xenc.float()"
   ]
  },
  {
   "cell_type": "code",
   "execution_count": 110,
   "id": "82e59432-0c31-403b-8cdf-f09d66bf9875",
   "metadata": {},
   "outputs": [
    {
     "data": {
      "text/plain": [
       "torch.float32"
      ]
     },
     "execution_count": 110,
     "metadata": {},
     "output_type": "execute_result"
    }
   ],
   "source": [
    "xenc.dtype"
   ]
  },
  {
   "cell_type": "code",
   "execution_count": 115,
   "id": "3e45028b-d91c-4e15-a2fd-531f88111bce",
   "metadata": {},
   "outputs": [
    {
     "data": {
      "text/plain": [
       "torch.Size([5, 27])"
      ]
     },
     "execution_count": 115,
     "metadata": {},
     "output_type": "execute_result"
    }
   ],
   "source": [
    "W= torch.randn((27,27))\n",
    "(xenc @ W).shape"
   ]
  },
  {
   "cell_type": "code",
   "execution_count": 113,
   "id": "f3007ee1-f068-4fdc-be20-e8b8788b9437",
   "metadata": {},
   "outputs": [
    {
     "data": {
      "text/plain": [
       "torch.Size([5, 27])"
      ]
     },
     "execution_count": 113,
     "metadata": {},
     "output_type": "execute_result"
    }
   ],
   "source": [
    "xenc.shape"
   ]
  },
  {
   "cell_type": "code",
   "execution_count": 116,
   "id": "7f4167bd-1442-4c46-8ab8-cf2265db9d42",
   "metadata": {},
   "outputs": [
    {
     "data": {
      "text/plain": [
       "tensor(-0.3907)"
      ]
     },
     "execution_count": 116,
     "metadata": {},
     "output_type": "execute_result"
    }
   ],
   "source": [
    "(xenc@W)[3,13]\n"
   ]
  },
  {
   "cell_type": "code",
   "execution_count": 121,
   "id": "af3cf022-2202-4c56-a6f6-80ff42e97f58",
   "metadata": {},
   "outputs": [
    {
     "data": {
      "text/plain": [
       "tensor([[ 1.9844,  0.9992,  0.6582, -0.8410, -0.8602, -0.0301,  2.0178,  0.8959,\n",
       "          0.3757, -1.0925,  0.0240, -0.5320,  0.9607,  0.7177, -1.4870, -1.9215,\n",
       "          0.2350, -0.0964,  1.6521,  0.1167,  0.8388, -0.7845, -0.1090,  1.4801,\n",
       "          0.4658,  0.3441,  0.1293],\n",
       "        [-0.4268, -0.7665,  0.0846,  1.2097, -0.6317, -2.4802,  0.7861,  1.2715,\n",
       "          0.2643,  1.7048,  1.8006, -0.7082,  0.1985,  0.9611,  0.3430,  0.9466,\n",
       "         -0.0618, -2.0102, -0.4922,  2.0397, -0.6206, -0.2144,  0.1778, -0.0316,\n",
       "          0.8780, -0.2739, -0.1207],\n",
       "        [ 0.2739, -0.1670,  0.1526, -0.8815, -0.3765, -1.1013,  1.2181, -1.0394,\n",
       "          0.4690, -0.7823, -0.9294,  1.3504, -0.4592, -0.3907,  0.0715, -0.7775,\n",
       "         -0.7512,  0.6542,  1.2290, -0.6147, -0.2802, -0.6560,  0.5753, -0.2181,\n",
       "          1.0626, -1.6716, -1.3646],\n",
       "        [ 0.2739, -0.1670,  0.1526, -0.8815, -0.3765, -1.1013,  1.2181, -1.0394,\n",
       "          0.4690, -0.7823, -0.9294,  1.3504, -0.4592, -0.3907,  0.0715, -0.7775,\n",
       "         -0.7512,  0.6542,  1.2290, -0.6147, -0.2802, -0.6560,  0.5753, -0.2181,\n",
       "          1.0626, -1.6716, -1.3646],\n",
       "        [ 0.4394,  0.0844, -0.0537,  0.1136, -1.0141, -0.3696,  0.0193, -0.2907,\n",
       "          1.4753,  0.3288,  0.2256, -0.1337,  0.7847, -0.5552, -0.1532, -0.3637,\n",
       "         -0.9278,  0.9349,  0.2506, -0.0977,  0.5632, -0.3887, -0.1606, -1.1738,\n",
       "          0.0270, -0.0287,  0.5309]])"
      ]
     },
     "execution_count": 121,
     "metadata": {},
     "output_type": "execute_result"
    }
   ],
   "source": [
    "logits = xenc@W\n",
    "logits"
   ]
  },
  {
   "cell_type": "raw",
   "id": "56b7909d-411c-4288-b676-56c01732e4bb",
   "metadata": {},
   "source": [
    "counts = logits.exp() \n"
   ]
  },
  {
   "cell_type": "code",
   "execution_count": 122,
   "id": "77009ee2-9b82-4d8f-b64e-b6519c35fec1",
   "metadata": {},
   "outputs": [
    {
     "data": {
      "text/plain": [
       "tensor([[7.2749, 2.7161, 1.9314, 0.4313, 0.4231, 0.9703, 7.5218, 2.4495, 1.4560,\n",
       "         0.3354, 1.0243, 0.5874, 2.6135, 2.0498, 0.2261, 0.1464, 1.2650, 0.9081,\n",
       "         5.2179, 1.1237, 2.3136, 0.4564, 0.8968, 4.3934, 1.5933, 1.4107, 1.1381],\n",
       "        [0.6526, 0.4646, 1.0883, 3.3525, 0.5317, 0.0837, 2.1948, 3.5660, 1.3026,\n",
       "         5.5000, 6.0531, 0.4925, 1.2196, 2.6146, 1.4091, 2.5769, 0.9400, 0.1340,\n",
       "         0.6113, 7.6881, 0.5376, 0.8070, 1.1946, 0.9689, 2.4061, 0.7604, 0.8863],\n",
       "        [1.3150, 0.8462, 1.1648, 0.4141, 0.6862, 0.3324, 3.3808, 0.3537, 1.5984,\n",
       "         0.4574, 0.3948, 3.8588, 0.6318, 0.6766, 1.0741, 0.4596, 0.4718, 1.9237,\n",
       "         3.4178, 0.5408, 0.7556, 0.5189, 1.7777, 0.8040, 2.8939, 0.1880, 0.2555],\n",
       "        [1.3150, 0.8462, 1.1648, 0.4141, 0.6862, 0.3324, 3.3808, 0.3537, 1.5984,\n",
       "         0.4574, 0.3948, 3.8588, 0.6318, 0.6766, 1.0741, 0.4596, 0.4718, 1.9237,\n",
       "         3.4178, 0.5408, 0.7556, 0.5189, 1.7777, 0.8040, 2.8939, 0.1880, 0.2555],\n",
       "        [1.5518, 1.0880, 0.9478, 1.1203, 0.3627, 0.6910, 1.0195, 0.7477, 4.3725,\n",
       "         1.3894, 1.2531, 0.8748, 2.1917, 0.5739, 0.8579, 0.6951, 0.3954, 2.5470,\n",
       "         1.2848, 0.9069, 1.7563, 0.6779, 0.8516, 0.3092, 1.0273, 0.9717, 1.7004]])"
      ]
     },
     "execution_count": 122,
     "metadata": {},
     "output_type": "execute_result"
    }
   ],
   "source": [
    "counts"
   ]
  },
  {
   "cell_type": "code",
   "execution_count": 124,
   "id": "bae4a38e-bb86-40d7-a385-92308b7ab4dc",
   "metadata": {},
   "outputs": [],
   "source": [
    "probs = counts/counts.sum(1,keepdims =True)\n",
    "\n"
   ]
  },
  {
   "cell_type": "code",
   "execution_count": 125,
   "id": "89f9122a-29ac-46c0-aec5-8b7287b3251f",
   "metadata": {},
   "outputs": [
    {
     "data": {
      "text/plain": [
       "tensor([[0.1376, 0.0514, 0.0365, 0.0082, 0.0080, 0.0184, 0.1423, 0.0463, 0.0275,\n",
       "         0.0063, 0.0194, 0.0111, 0.0494, 0.0388, 0.0043, 0.0028, 0.0239, 0.0172,\n",
       "         0.0987, 0.0213, 0.0438, 0.0086, 0.0170, 0.0831, 0.0301, 0.0267, 0.0215],\n",
       "        [0.0130, 0.0093, 0.0217, 0.0670, 0.0106, 0.0017, 0.0439, 0.0713, 0.0260,\n",
       "         0.1099, 0.1210, 0.0098, 0.0244, 0.0523, 0.0282, 0.0515, 0.0188, 0.0027,\n",
       "         0.0122, 0.1536, 0.0107, 0.0161, 0.0239, 0.0194, 0.0481, 0.0152, 0.0177],\n",
       "        [0.0422, 0.0271, 0.0373, 0.0133, 0.0220, 0.0107, 0.1084, 0.0113, 0.0512,\n",
       "         0.0147, 0.0127, 0.1237, 0.0203, 0.0217, 0.0344, 0.0147, 0.0151, 0.0617,\n",
       "         0.1096, 0.0173, 0.0242, 0.0166, 0.0570, 0.0258, 0.0928, 0.0060, 0.0082],\n",
       "        [0.0422, 0.0271, 0.0373, 0.0133, 0.0220, 0.0107, 0.1084, 0.0113, 0.0512,\n",
       "         0.0147, 0.0127, 0.1237, 0.0203, 0.0217, 0.0344, 0.0147, 0.0151, 0.0617,\n",
       "         0.1096, 0.0173, 0.0242, 0.0166, 0.0570, 0.0258, 0.0928, 0.0060, 0.0082],\n",
       "        [0.0482, 0.0338, 0.0295, 0.0348, 0.0113, 0.0215, 0.0317, 0.0232, 0.1359,\n",
       "         0.0432, 0.0390, 0.0272, 0.0681, 0.0178, 0.0267, 0.0216, 0.0123, 0.0792,\n",
       "         0.0399, 0.0282, 0.0546, 0.0211, 0.0265, 0.0096, 0.0319, 0.0302, 0.0529]])"
      ]
     },
     "execution_count": 125,
     "metadata": {},
     "output_type": "execute_result"
    }
   ],
   "source": [
    "probs"
   ]
  },
  {
   "cell_type": "code",
   "execution_count": 126,
   "id": "819ac460-5982-48bf-9ab7-866c0edb5b10",
   "metadata": {},
   "outputs": [
    {
     "data": {
      "text/plain": [
       "tensor(1.0000)"
      ]
     },
     "execution_count": 126,
     "metadata": {},
     "output_type": "execute_result"
    }
   ],
   "source": [
    "probs[0].sum()"
   ]
  },
  {
   "cell_type": "code",
   "execution_count": 127,
   "id": "1a5cc750-bd8f-44bf-be3b-01b30beddc94",
   "metadata": {},
   "outputs": [
    {
     "data": {
      "text/plain": [
       "tensor(5.0000)"
      ]
     },
     "execution_count": 127,
     "metadata": {},
     "output_type": "execute_result"
    }
   ],
   "source": [
    "probs.sum()"
   ]
  },
  {
   "cell_type": "code",
   "execution_count": 128,
   "id": "8494693d-c83c-4b39-90e6-9a85e2144438",
   "metadata": {},
   "outputs": [
    {
     "data": {
      "text/plain": [
       "torch.Size([5, 27])"
      ]
     },
     "execution_count": 128,
     "metadata": {},
     "output_type": "execute_result"
    }
   ],
   "source": [
    "probs.shape"
   ]
  },
  {
   "cell_type": "code",
   "execution_count": null,
   "id": "81a0eb62-dcdf-4417-9ead-b355488a04b9",
   "metadata": {},
   "outputs": [],
   "source": []
  }
 ],
 "metadata": {
  "kernelspec": {
   "display_name": "Python 3 (ipykernel)",
   "language": "python",
   "name": "python3"
  },
  "language_info": {
   "codemirror_mode": {
    "name": "ipython",
    "version": 3
   },
   "file_extension": ".py",
   "mimetype": "text/x-python",
   "name": "python",
   "nbconvert_exporter": "python",
   "pygments_lexer": "ipython3",
   "version": "3.9.17"
  }
 },
 "nbformat": 4,
 "nbformat_minor": 5
}
